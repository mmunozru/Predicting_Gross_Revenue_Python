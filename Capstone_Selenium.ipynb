{
 "cells": [
  {
   "cell_type": "markdown",
   "metadata": {},
   "source": [
    "---\n",
    "##### Goal of Script: Pull data from a website \n",
    "\n",
    "How do candidates identify potential companies during a job search?\n",
    "\n",
    "One method is to read online articles such as Fortune's \"Best Workplaces for Millennials\" ([link](https://www.greatplacetowork.com/best-workplaces/Millennials/2016)).I created a script that retrieves (i.e. web scrapes) company information directly from the website. \n",
    "\n",
    "* Fortune will continue to use the same html structure in the future\n",
    "* Fortune will continue to allow web scraping i.e. the site isn't blocked \n",
    "* A company can only occur once on the Fortune list every year"
   ]
  },
  {
   "cell_type": "code",
   "execution_count": 3,
   "metadata": {},
   "outputs": [
    {
     "name": "stdout",
     "output_type": "stream",
     "text": [
      "Python 3.7.3\n"
     ]
    }
   ],
   "source": [
    "!python --version"
   ]
  },
  {
   "cell_type": "code",
   "execution_count": 1,
   "metadata": {},
   "outputs": [],
   "source": [
    "#pip install selenium "
   ]
  },
  {
   "cell_type": "code",
   "execution_count": 2,
   "metadata": {},
   "outputs": [],
   "source": [
    "#pip show selenium"
   ]
  },
  {
   "cell_type": "code",
   "execution_count": 3,
   "metadata": {},
   "outputs": [],
   "source": [
    "#download and move chromedrive.exe file to same location as jupyter notebook \n",
    "#used the stable version ChromeDriver 107.0.5304.62 from the website https://chromedriver.chromium.org/home"
   ]
  },
  {
   "cell_type": "code",
   "execution_count": 4,
   "metadata": {},
   "outputs": [
    {
     "name": "stdout",
     "output_type": "stream",
     "text": [
      "chromedriver location: C:\\Users\\mmuno\\Desktop\\GitHub\\Capstone\\chromedriver.exe\n",
      "driver information: <selenium.webdriver.chrome.webdriver.WebDriver (session=\"435cd35e2be0b17c76f056b54ca6491f\")>\n"
     ]
    }
   ],
   "source": [
    "import os\n",
    "import pandas as pd \n",
    "from selenium import webdriver\n",
    "from selenium.webdriver.chrome.service import Service\n",
    "from selenium.webdriver.chrome.options import Options\n",
    "from selenium.webdriver.common.by import By\n",
    "\n",
    "cms_url = \"https://data.cms.gov/provider-compliance/cost-report/hospital-provider-cost-report/api-docs/\"\n",
    "\n",
    "# configure webdriver\n",
    "options = Options()\n",
    "options.headless = True  # hide GUI\n",
    "options.add_argument(\"--window-size=1920,1080\")  # set window size to native GUI size\n",
    "options.add_argument(\"start-maximized\")  # ensure window is full-screen\n",
    "\n",
    "# get path of chromedrive\n",
    "path = os.getcwd() + '\\\\chromedriver.exe'\n",
    "print(\"chromedriver location: {}\".format(path))\n",
    "\n",
    "# access data.cms.gov website\n",
    "s = Service(path)\n",
    "driver = webdriver.Chrome(service=s, options=options)\n",
    "driver.get(cms_url)\n",
    "print(\"driver information: {}\".format(driver))"
   ]
  },
  {
   "cell_type": "code",
   "execution_count": 7,
   "metadata": {},
   "outputs": [],
   "source": [
    "# get row count of table\n",
    "rows = len(driver.find_elements(by=By.XPATH, value=\"/html/body/div/div/div/div/div/div/div[2]/div[2]/div/div/table/tbody/tr\"))\n",
    "cols = len(driver.find_elements(by=By.XPATH, value=\"/html/body/div/div/div/div/div/div/div[2]/div[2]/div/div/table/thead/tr/th\"))"
   ]
  },
  {
   "cell_type": "code",
   "execution_count": 8,
   "metadata": {},
   "outputs": [
    {
     "data": {
      "text/html": [
       "<div>\n",
       "<style scoped>\n",
       "    .dataframe tbody tr th:only-of-type {\n",
       "        vertical-align: middle;\n",
       "    }\n",
       "\n",
       "    .dataframe tbody tr th {\n",
       "        vertical-align: top;\n",
       "    }\n",
       "\n",
       "    .dataframe thead th {\n",
       "        text-align: right;\n",
       "    }\n",
       "</style>\n",
       "<table border=\"1\" class=\"dataframe\">\n",
       "  <thead>\n",
       "    <tr style=\"text-align: right;\">\n",
       "      <th></th>\n",
       "      <th>year</th>\n",
       "      <th>version</th>\n",
       "    </tr>\n",
       "  </thead>\n",
       "  <tbody>\n",
       "    <tr>\n",
       "      <th>0</th>\n",
       "      <td>2019</td>\n",
       "      <td>6ebd03b1-ff48-4994-94ed-0a54e90c1bd6</td>\n",
       "    </tr>\n",
       "    <tr>\n",
       "      <th>1</th>\n",
       "      <td>2018</td>\n",
       "      <td>90869abf-c649-4d65-84b3-4d6a1b568b69</td>\n",
       "    </tr>\n",
       "    <tr>\n",
       "      <th>2</th>\n",
       "      <td>2017</td>\n",
       "      <td>b2a1e8c3-62c3-4c47-94b2-5fa16b122a4d</td>\n",
       "    </tr>\n",
       "    <tr>\n",
       "      <th>3</th>\n",
       "      <td>2016</td>\n",
       "      <td>2981f550-653f-46a6-a5a5-06a3408eb245</td>\n",
       "    </tr>\n",
       "    <tr>\n",
       "      <th>4</th>\n",
       "      <td>2015</td>\n",
       "      <td>73e66edc-0b70-4e88-b1af-7d2b98a243f5</td>\n",
       "    </tr>\n",
       "    <tr>\n",
       "      <th>5</th>\n",
       "      <td>2014</td>\n",
       "      <td>9855c8b2-1514-47f8-a3ed-c34c2d41eed3</td>\n",
       "    </tr>\n",
       "    <tr>\n",
       "      <th>6</th>\n",
       "      <td>2013</td>\n",
       "      <td>7d1090ac-9d79-47d6-b42d-533a1f3edd7a</td>\n",
       "    </tr>\n",
       "    <tr>\n",
       "      <th>7</th>\n",
       "      <td>2012</td>\n",
       "      <td>9f3eee40-cdbc-4082-af3f-30e1807399b9</td>\n",
       "    </tr>\n",
       "    <tr>\n",
       "      <th>8</th>\n",
       "      <td>2011</td>\n",
       "      <td>db36eabb-2344-4053-a579-6fa48602bb29</td>\n",
       "    </tr>\n",
       "  </tbody>\n",
       "</table>\n",
       "</div>"
      ],
      "text/plain": [
       "   year                               version\n",
       "0  2019  6ebd03b1-ff48-4994-94ed-0a54e90c1bd6\n",
       "1  2018  90869abf-c649-4d65-84b3-4d6a1b568b69\n",
       "2  2017  b2a1e8c3-62c3-4c47-94b2-5fa16b122a4d\n",
       "3  2016  2981f550-653f-46a6-a5a5-06a3408eb245\n",
       "4  2015  73e66edc-0b70-4e88-b1af-7d2b98a243f5\n",
       "5  2014  9855c8b2-1514-47f8-a3ed-c34c2d41eed3\n",
       "6  2013  7d1090ac-9d79-47d6-b42d-533a1f3edd7a\n",
       "7  2012  9f3eee40-cdbc-4082-af3f-30e1807399b9\n",
       "8  2011  db36eabb-2344-4053-a579-6fa48602bb29"
      ]
     },
     "execution_count": 8,
     "metadata": {},
     "output_type": "execute_result"
    }
   ],
   "source": [
    "# Webscrape cms website\n",
    "version_ls = []\n",
    "\n",
    "for r in range(1,rows+1):\n",
    "    values = []\n",
    "    for c in range(1,cols+1):\n",
    "        xpath = \"/html/body/div/div/div/div/div/div/div[2]/div[2]/div/div/table/tbody/tr[\"+str(r)+\"]/td[\"+str(c)+\"]\"\n",
    "        driver_value = driver.find_elements(by=By.XPATH, value=xpath)\n",
    "        col_value = driver_value[0].text\n",
    "        values.append(col_value)\n",
    "\n",
    "    version_ls.append(values)\n",
    "    \n",
    "# create dataframe with webscraped information from cms website  \n",
    "version_df = pd.DataFrame(version_ls, columns =['year', 'version'])\n",
    "version_df"
   ]
  },
  {
   "cell_type": "code",
   "execution_count": null,
   "metadata": {},
   "outputs": [],
   "source": [
    "version_df.to_csv(\"URL_Versions.csv\", index=False) #export data as excel file"
   ]
  },
  {
   "cell_type": "code",
   "execution_count": null,
   "metadata": {},
   "outputs": [],
   "source": [
    "driver.close()  # Closes the tab which was opened earlier\n",
    "driver.quit()  # Quits the entire browser"
   ]
  }
 ],
 "metadata": {
  "kernelspec": {
   "display_name": "Python 3",
   "language": "python",
   "name": "python3"
  },
  "language_info": {
   "codemirror_mode": {
    "name": "ipython",
    "version": 3
   },
   "file_extension": ".py",
   "mimetype": "text/x-python",
   "name": "python",
   "nbconvert_exporter": "python",
   "pygments_lexer": "ipython3",
   "version": "3.7.3"
  }
 },
 "nbformat": 4,
 "nbformat_minor": 4
}
